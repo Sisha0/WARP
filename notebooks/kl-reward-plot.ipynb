{
 "cells": [
  {
   "cell_type": "code",
   "execution_count": 1,
   "metadata": {},
   "outputs": [],
   "source": [
    "import sys\n",
    "import torch\n",
    "import transformers\n",
    "import peft\n",
    "import trl\n",
    "import matplotlib.pyplot as plt\n",
    "from dataclasses import asdict\n",
    "from torch.utils.data import Subset\n",
    "\n",
    "\n",
    "sys.path.append('..')"
   ]
  },
  {
   "cell_type": "code",
   "execution_count": 2,
   "metadata": {},
   "outputs": [],
   "source": [
    "from src import configs\n",
    "\n",
    "\n",
    "warp_args = configs.WARPArgs()\n",
    "dataset_args = configs.DatasetArgs()\n",
    "generation_args = configs.GenerationArgs(max_new_tokens=128, num_return_sequences=4)\n",
    "train_args = configs.PolicyTrainArgs(per_device_eval_batch_size=4)\n",
    "lora_args = configs.LoraArgs()\n",
    "checkpoints_args = configs.CheckpointsArgs(sft_checkpoint='../checkpoints/sft', reward_checkpoint='../checkpoints/reward')\n",
    "generation_config = transformers.GenerationConfig.from_dict(asdict(generation_args))\n",
    "pareto_front_weights = [0.0, 0.1, 0.3, 0.5, 0.8, 1.0]"
   ]
  },
  {
   "cell_type": "code",
   "execution_count": 3,
   "metadata": {},
   "outputs": [],
   "source": [
    "device = torch.device('cuda')\n",
    "sft = peft.AutoPeftModelForCausalLM.from_pretrained('../checkpoints/sft', device_map=device).eval()\n",
    "sft_tokenizer = transformers.AutoTokenizer.from_pretrained('../checkpoints/sft', padding_side='left')\n",
    "reward_model = transformers.AutoModelForSequenceClassification.from_pretrained('../checkpoints/reward', device_map=device).eval()\n",
    "reward_tokenizer = transformers.AutoTokenizer.from_pretrained('../checkpoints/reward', padding_side='left')"
   ]
  },
  {
   "cell_type": "code",
   "execution_count": 4,
   "metadata": {},
   "outputs": [],
   "source": [
    "from src import dataset\n",
    "\n",
    "\n",
    "imdb = dataset.build_imdb_dataset(\n",
    "    sft_tokenizer,\n",
    "    min_text_length=dataset_args.min_text_length,\n",
    "    min_tokens=dataset_args.min_tokens,\n",
    "    max_tokens=dataset_args.max_tokens,\n",
    ")\n",
    "\n",
    "train_dataset = imdb['train']\n",
    "test_dataset = Subset(imdb['test'], list(range(dataset_args.eval_size)))"
   ]
  },
  {
   "cell_type": "code",
   "execution_count": 5,
   "metadata": {},
   "outputs": [],
   "source": [
    "from src import policy_trainer\n",
    "\n",
    "\n",
    "def get_kl_reward_front(checkpoint_path: str) -> dict[str, list[float]]:\n",
    "    metrics = {'kl': [], 'reward': []}\n",
    "\n",
    "    for weight in pareto_front_weights:\n",
    "        trl.set_seed(0)\n",
    "        warp = peft.AutoPeftModelForCausalLM.from_pretrained(checkpoint_path, device_map=device).eval()\n",
    "\n",
    "        for sft_param, warp_param in zip(sft.parameters(), warp.parameters()):\n",
    "            warp_param = warp_param.detach()\n",
    "            warp_param *= weight\n",
    "            warp_param += (1 - weight) * sft_param\n",
    "\n",
    "        trainer = policy_trainer.PolicyTrainer(\n",
    "            warp,\n",
    "            sft_tokenizer,\n",
    "            reward_model,\n",
    "            reward_tokenizer,\n",
    "            generation_config,\n",
    "            warp_args,\n",
    "            ref_policy=sft,\n",
    "            training_args=transformers.TrainingArguments(\n",
    "                output_dir='tmp',\n",
    "                include_inputs_for_metrics=True,\n",
    "                batch_eval_metrics=True,\n",
    "                num_train_epochs=0,\n",
    "                report_to='none',\n",
    "                **asdict(train_args)\n",
    "            ),\n",
    "            train_dataset=train_dataset,\n",
    "            eval_dataset=test_dataset,\n",
    "        )\n",
    "\n",
    "        trainer.remove_callback(transformers.PrinterCallback)\n",
    "        model_metrics = trainer.evaluate()\n",
    "        metrics['kl'].append(model_metrics['eval_KL'])\n",
    "        metrics['reward'].append(model_metrics['eval_Reward'])\n",
    "    \n",
    "    return metrics\n",
    "\n",
    "def plot_metrics(metrics: dict[str, list[float]]):\n",
    "    plt.plot(metrics['kl'], metrics['reward'])\n",
    "    for weight, kl, reward in zip(pareto_front_weights, metrics['kl'], metrics['reward']):\n",
    "        plt.text(kl, reward, r'$\\eta$=' + str(weight))\n",
    "\n",
    "    plt.xlabel('KL')\n",
    "    plt.ylabel('Reward')"
   ]
  },
  {
   "cell_type": "markdown",
   "metadata": {},
   "source": [
    "# WARP"
   ]
  },
  {
   "cell_type": "markdown",
   "metadata": {},
   "source": [
    "## 1st iteration"
   ]
  },
  {
   "cell_type": "code",
   "execution_count": 5,
   "metadata": {},
   "outputs": [
    {
     "data": {
      "application/vnd.jupyter.widget-view+json": {
       "model_id": "4a557c8c73204c148e65dfa24effe96f",
       "version_major": 2,
       "version_minor": 0
      },
      "text/plain": [
       "  0%|          | 0/25 [00:00<?, ?it/s]"
      ]
     },
     "metadata": {},
     "output_type": "display_data"
    },
    {
     "data": {
      "application/vnd.jupyter.widget-view+json": {
       "model_id": "f238f7e64cc64ad68a3f5e4437e925aa",
       "version_major": 2,
       "version_minor": 0
      },
      "text/plain": [
       "  0%|          | 0/25 [00:00<?, ?it/s]"
      ]
     },
     "metadata": {},
     "output_type": "display_data"
    },
    {
     "data": {
      "application/vnd.jupyter.widget-view+json": {
       "model_id": "2a4b1956c5b04a27a17550bd85a1877e",
       "version_major": 2,
       "version_minor": 0
      },
      "text/plain": [
       "  0%|          | 0/25 [00:00<?, ?it/s]"
      ]
     },
     "metadata": {},
     "output_type": "display_data"
    },
    {
     "data": {
      "application/vnd.jupyter.widget-view+json": {
       "model_id": "09ce20425c1b4710818850e3c89eddda",
       "version_major": 2,
       "version_minor": 0
      },
      "text/plain": [
       "  0%|          | 0/25 [00:00<?, ?it/s]"
      ]
     },
     "metadata": {},
     "output_type": "display_data"
    },
    {
     "data": {
      "application/vnd.jupyter.widget-view+json": {
       "model_id": "3a506466319147f296d1fe70a02eb1e3",
       "version_major": 2,
       "version_minor": 0
      },
      "text/plain": [
       "  0%|          | 0/25 [00:00<?, ?it/s]"
      ]
     },
     "metadata": {},
     "output_type": "display_data"
    },
    {
     "data": {
      "application/vnd.jupyter.widget-view+json": {
       "model_id": "8d7d48418a574fa2ba407fedb3ed34e2",
       "version_major": 2,
       "version_minor": 0
      },
      "text/plain": [
       "  0%|          | 0/25 [00:00<?, ?it/s]"
      ]
     },
     "metadata": {},
     "output_type": "display_data"
    }
   ],
   "source": [
    "metrics_slerp_0 = get_kl_reward_front('../checkpoints/warp_0')"
   ]
  },
  {
   "cell_type": "code",
   "execution_count": 13,
   "metadata": {},
   "outputs": [
    {
     "data": {
      "image/png": "[encoded data removed]",
      "text/plain": [
       "<Figure size 640x480 with 1 Axes>"
      ]
     },
     "metadata": {},
     "output_type": "display_data"
    }
   ],
   "source": [
    "plot_metrics(metrics_slerp_0)"
   ]
  },
  {
   "cell_type": "code",
   "execution_count": 14,
   "metadata": {},
   "outputs": [
    {
     "name": "stdout",
     "output_type": "stream",
     "text": [
      "KL: [-3.0591903305321465e-06, -0.009793374123983085, 0.02936253442429006, 0.16779082166031004, 0.5697384683042764, 0.8548889911174774]\n",
      "Reward: [-0.6103764646500349, -0.5248588589578866, -0.38735880054533484, -0.16122133292257787, 0.1740150398761034, 0.21127786956727504]\n"
     ]
    }
   ],
   "source": [
    "print('KL:', metrics_slerp_0['kl'])\n",
    "print('Reward:', metrics_slerp_0['reward'])"
   ]
  },
  {
   "cell_type": "markdown",
   "metadata": {},
   "source": [
    "## 2nd iteration"
   ]
  },
  {
   "cell_type": "code",
   "execution_count": 6,
   "metadata": {},
   "outputs": [
    {
     "data": {
      "application/vnd.jupyter.widget-view+json": {
       "model_id": "cc45bf92eb1943e2b65544d6065709b7",
       "version_major": 2,
       "version_minor": 0
      },
      "text/plain": [
       "  0%|          | 0/25 [00:00<?, ?it/s]"
      ]
     },
     "metadata": {},
     "output_type": "display_data"
    },
    {
     "data": {
      "application/vnd.jupyter.widget-view+json": {
       "model_id": "b0c2f7a220da46cbadad2abbe5a138a9",
       "version_major": 2,
       "version_minor": 0
      },
      "text/plain": [
       "  0%|          | 0/25 [00:00<?, ?it/s]"
      ]
     },
     "metadata": {},
     "output_type": "display_data"
    },
    {
     "data": {
      "application/vnd.jupyter.widget-view+json": {
       "model_id": "cd8b4d3c77454f0abe14cd2851a54729",
       "version_major": 2,
       "version_minor": 0
      },
      "text/plain": [
       "  0%|          | 0/25 [00:00<?, ?it/s]"
      ]
     },
     "metadata": {},
     "output_type": "display_data"
    },
    {
     "data": {
      "application/vnd.jupyter.widget-view+json": {
       "model_id": "9768a389ef11485980c5ef7dfaf8f94f",
       "version_major": 2,
       "version_minor": 0
      },
      "text/plain": [
       "  0%|          | 0/25 [00:00<?, ?it/s]"
      ]
     },
     "metadata": {},
     "output_type": "display_data"
    },
    {
     "data": {
      "application/vnd.jupyter.widget-view+json": {
       "model_id": "95f44ef3b94c442b91471db8b1031076",
       "version_major": 2,
       "version_minor": 0
      },
      "text/plain": [
       "  0%|          | 0/25 [00:00<?, ?it/s]"
      ]
     },
     "metadata": {},
     "output_type": "display_data"
    },
    {
     "data": {
      "application/vnd.jupyter.widget-view+json": {
       "model_id": "dcd4ca6387e1492eaf2717543d4aa9fb",
       "version_major": 2,
       "version_minor": 0
      },
      "text/plain": [
       "  0%|          | 0/25 [00:00<?, ?it/s]"
      ]
     },
     "metadata": {},
     "output_type": "display_data"
    }
   ],
   "source": [
    "metrics_slerp_1 = get_kl_reward_front('../checkpoints/warp_1')"
   ]
  },
  {
   "cell_type": "code",
   "execution_count": 7,
   "metadata": {},
   "outputs": [
    {
     "data": {
      "image/png": "[encoded data removed]",
      "text/plain": [
       "<Figure size 640x480 with 1 Axes>"
      ]
     },
     "metadata": {},
     "output_type": "display_data"
    }
   ],
   "source": [
    "plot_metrics(metrics_slerp_1)"
   ]
  },
  {
   "cell_type": "code",
   "execution_count": 8,
   "metadata": {},
   "outputs": [
    {
     "name": "stdout",
     "output_type": "stream",
     "text": [
      "KL: [-3.0591903305321465e-06, 0.0069868391007184985, 0.16680057443678378, 0.7138086113519967, 1.8817491860315203, 2.4114876396581533]\n",
      "Reward: [-0.6103764646500349, -0.5248577208817005, -0.321664207354188, -0.13351215951144696, 0.31045583441853525, 0.3724845965206623]\n"
     ]
    }
   ],
   "source": [
    "print('KL:', metrics_slerp_1['kl'])\n",
    "print('Reward:', metrics_slerp_1['reward'])"
   ]
  },
  {
   "cell_type": "markdown",
   "metadata": {},
   "source": [
    "## 3rd iteration"
   ]
  },
  {
   "cell_type": "code",
   "execution_count": 6,
   "metadata": {},
   "outputs": [
    {
     "data": {
      "application/vnd.jupyter.widget-view+json": {
       "model_id": "315f9fd4853d46aba2bf18ce434ae20f",
       "version_major": 2,
       "version_minor": 0
      },
      "text/plain": [
       "  0%|          | 0/25 [00:00<?, ?it/s]"
      ]
     },
     "metadata": {},
     "output_type": "display_data"
    },
    {
     "data": {
      "application/vnd.jupyter.widget-view+json": {
       "model_id": "906eb917214441c0818342f1756f8236",
       "version_major": 2,
       "version_minor": 0
      },
      "text/plain": [
       "  0%|          | 0/25 [00:00<?, ?it/s]"
      ]
     },
     "metadata": {},
     "output_type": "display_data"
    },
    {
     "data": {
      "application/vnd.jupyter.widget-view+json": {
       "model_id": "895b1a9793284383a161636982085760",
       "version_major": 2,
       "version_minor": 0
      },
      "text/plain": [
       "  0%|          | 0/25 [00:00<?, ?it/s]"
      ]
     },
     "metadata": {},
     "output_type": "display_data"
    },
    {
     "data": {
      "application/vnd.jupyter.widget-view+json": {
       "model_id": "e3ba09546b194e8697b00818f5294f07",
       "version_major": 2,
       "version_minor": 0
      },
      "text/plain": [
       "  0%|          | 0/25 [00:00<?, ?it/s]"
      ]
     },
     "metadata": {},
     "output_type": "display_data"
    },
    {
     "data": {
      "application/vnd.jupyter.widget-view+json": {
       "model_id": "6f4bd1b841f44c68b240a0b43f16cf6a",
       "version_major": 2,
       "version_minor": 0
      },
      "text/plain": [
       "  0%|          | 0/25 [00:00<?, ?it/s]"
      ]
     },
     "metadata": {},
     "output_type": "display_data"
    },
    {
     "data": {
      "application/vnd.jupyter.widget-view+json": {
       "model_id": "a22cda7228e44ec3a8b89f69bcf1a584",
       "version_major": 2,
       "version_minor": 0
      },
      "text/plain": [
       "  0%|          | 0/25 [00:00<?, ?it/s]"
      ]
     },
     "metadata": {},
     "output_type": "display_data"
    }
   ],
   "source": [
    "metrics_slerp_2 = get_kl_reward_front('../checkpoints/warp_2')"
   ]
  },
  {
   "cell_type": "code",
   "execution_count": 7,
   "metadata": {},
   "outputs": [
    {
     "data": {
      "image/png": "[encoded data removed]",
      "text/plain": [
       "<Figure size 640x480 with 1 Axes>"
      ]
     },
     "metadata": {},
     "output_type": "display_data"
    }
   ],
   "source": [
    "plot_metrics(metrics_slerp_2)"
   ]
  },
  {
   "cell_type": "code",
   "execution_count": 8,
   "metadata": {},
   "outputs": [
    {
     "name": "stdout",
     "output_type": "stream",
     "text": [
      "KL: [-3.0591903305321465e-06, 0.02925147951580584, 0.29494499376043676, 1.1076171464473008, 3.3413127874210478, 5.6478762445598845]\n",
      "Reward: [-0.6103764646500349, -0.501467631533742, -0.3400614307820797, -0.11333222642540931, 0.28084182009100916, 0.4400232131034136]\n"
     ]
    }
   ],
   "source": [
    "print('KL:', metrics_slerp_2['kl'])\n",
    "print('Reward:', metrics_slerp_2['reward'])"
   ]
  },
  {
   "cell_type": "markdown",
   "metadata": {},
   "source": [
    "# WARP with RLOO"
   ]
  },
  {
   "cell_type": "markdown",
   "metadata": {},
   "source": [
    "## 1st iteration"
   ]
  },
  {
   "cell_type": "code",
   "execution_count": 6,
   "metadata": {},
   "outputs": [
    {
     "data": {
      "application/vnd.jupyter.widget-view+json": {
       "model_id": "d9f63c7ece4546619de492b605cc6f33",
       "version_major": 2,
       "version_minor": 0
      },
      "text/plain": [
       "  0%|          | 0/25 [00:00<?, ?it/s]"
      ]
     },
     "metadata": {},
     "output_type": "display_data"
    },
    {
     "data": {
      "application/vnd.jupyter.widget-view+json": {
       "model_id": "c7c9037f1c81437ba4962c64b9591767",
       "version_major": 2,
       "version_minor": 0
      },
      "text/plain": [
       "  0%|          | 0/25 [00:00<?, ?it/s]"
      ]
     },
     "metadata": {},
     "output_type": "display_data"
    },
    {
     "data": {
      "application/vnd.jupyter.widget-view+json": {
       "model_id": "c64181afaf4444c982d3b6087c42e095",
       "version_major": 2,
       "version_minor": 0
      },
      "text/plain": [
       "  0%|          | 0/25 [00:00<?, ?it/s]"
      ]
     },
     "metadata": {},
     "output_type": "display_data"
    },
    {
     "data": {
      "application/vnd.jupyter.widget-view+json": {
       "model_id": "c5358759722748c1a42c1afe598bc1a9",
       "version_major": 2,
       "version_minor": 0
      },
      "text/plain": [
       "  0%|          | 0/25 [00:00<?, ?it/s]"
      ]
     },
     "metadata": {},
     "output_type": "display_data"
    },
    {
     "data": {
      "application/vnd.jupyter.widget-view+json": {
       "model_id": "5d02e05fee1e4af685cdae72e2cd5f9c",
       "version_major": 2,
       "version_minor": 0
      },
      "text/plain": [
       "  0%|          | 0/25 [00:00<?, ?it/s]"
      ]
     },
     "metadata": {},
     "output_type": "display_data"
    },
    {
     "data": {
      "application/vnd.jupyter.widget-view+json": {
       "model_id": "1d1c2df9c4e1471c954b3b3c356089f6",
       "version_major": 2,
       "version_minor": 0
      },
      "text/plain": [
       "  0%|          | 0/25 [00:00<?, ?it/s]"
      ]
     },
     "metadata": {},
     "output_type": "display_data"
    }
   ],
   "source": [
    "metrics_slerp_rloo_0 = get_kl_reward_front('../checkpoints/warp_rloo_0')"
   ]
  },
  {
   "cell_type": "code",
   "execution_count": 7,
   "metadata": {},
   "outputs": [
    {
     "data": {
      "image/png": "[encoded data removed]",
      "text/plain": [
       "<Figure size 640x480 with 1 Axes>"
      ]
     },
     "metadata": {},
     "output_type": "display_data"
    }
   ],
   "source": [
    "plot_metrics(metrics_slerp_rloo_0)"
   ]
  },
  {
   "cell_type": "code",
   "execution_count": 8,
   "metadata": {},
   "outputs": [
    {
     "name": "stdout",
     "output_type": "stream",
     "text": [
      "KL: [-3.0591903305321465e-06, -0.005344628030434251, 0.0544169485475868, 0.21781890803948045, 0.5804766922071576, 1.0642303097620607]\n",
      "Reward: [-0.6103764646500349, -0.5793937357515097, -0.3792014902085066, -0.2386105742305517, 0.006410333216190338, 0.09631173752248287]\n"
     ]
    }
   ],
   "source": [
    "print('KL:', metrics_slerp_rloo_0['kl'])\n",
    "print('Reward:', metrics_slerp_rloo_0['reward'])"
   ]
  },
  {
   "cell_type": "markdown",
   "metadata": {},
   "source": [
    "## 2nd iteration"
   ]
  },
  {
   "cell_type": "code",
   "execution_count": 6,
   "metadata": {},
   "outputs": [
    {
     "data": {
      "application/vnd.jupyter.widget-view+json": {
       "model_id": "42def1b04c674496a07d7ac9f3ced72c",
       "version_major": 2,
       "version_minor": 0
      },
      "text/plain": [
       "  0%|          | 0/25 [00:00<?, ?it/s]"
      ]
     },
     "metadata": {},
     "output_type": "display_data"
    },
    {
     "data": {
      "application/vnd.jupyter.widget-view+json": {
       "model_id": "63a6a02835e2491aab82833ab393b30e",
       "version_major": 2,
       "version_minor": 0
      },
      "text/plain": [
       "  0%|          | 0/25 [00:00<?, ?it/s]"
      ]
     },
     "metadata": {},
     "output_type": "display_data"
    },
    {
     "data": {
      "application/vnd.jupyter.widget-view+json": {
       "model_id": "9016caebc4824932baf178bcc87c589c",
       "version_major": 2,
       "version_minor": 0
      },
      "text/plain": [
       "  0%|          | 0/25 [00:00<?, ?it/s]"
      ]
     },
     "metadata": {},
     "output_type": "display_data"
    },
    {
     "data": {
      "application/vnd.jupyter.widget-view+json": {
       "model_id": "26ebc4b2eaba47cf9711c019aec99a25",
       "version_major": 2,
       "version_minor": 0
      },
      "text/plain": [
       "  0%|          | 0/25 [00:00<?, ?it/s]"
      ]
     },
     "metadata": {},
     "output_type": "display_data"
    },
    {
     "data": {
      "application/vnd.jupyter.widget-view+json": {
       "model_id": "d2800b8dd7f04c50984b7ddb89b8e77d",
       "version_major": 2,
       "version_minor": 0
      },
      "text/plain": [
       "  0%|          | 0/25 [00:00<?, ?it/s]"
      ]
     },
     "metadata": {},
     "output_type": "display_data"
    },
    {
     "data": {
      "application/vnd.jupyter.widget-view+json": {
       "model_id": "22ce37a5944b4e3b8e9a1718329331f3",
       "version_major": 2,
       "version_minor": 0
      },
      "text/plain": [
       "  0%|          | 0/25 [00:00<?, ?it/s]"
      ]
     },
     "metadata": {},
     "output_type": "display_data"
    }
   ],
   "source": [
    "metrics_slerp_rloo_1 = get_kl_reward_front('../checkpoints/warp_rloo_1')"
   ]
  },
  {
   "cell_type": "code",
   "execution_count": 7,
   "metadata": {},
   "outputs": [
    {
     "data": {
      "image/png": "[encoded data removed]",
      "text/plain": [
       "<Figure size 640x480 with 1 Axes>"
      ]
     },
     "metadata": {},
     "output_type": "display_data"
    }
   ],
   "source": [
    "plot_metrics(metrics_slerp_rloo_1)"
   ]
  },
  {
   "cell_type": "code",
   "execution_count": 8,
   "metadata": {},
   "outputs": [
    {
     "name": "stdout",
     "output_type": "stream",
     "text": [
      "KL: [-3.0591903305321465e-06, -0.006927336901426316, 0.1453215772099793, 0.4641672273166478, 1.3148425309360028, 1.8460633717849861]\n",
      "Reward: [-0.6103764646500349, -0.5405778959393501, -0.32495585180819037, 0.014832097440958023, 0.4046743594110012, 0.51276311583817]\n"
     ]
    }
   ],
   "source": [
    "print('KL:', metrics_slerp_rloo_1['kl'])\n",
    "print('Reward:', metrics_slerp_rloo_1['reward'])"
   ]
  }
 ],
 "metadata": {
  "kernelspec": {
   "display_name": "alignment_env",
   "language": "python",
   "name": "python3"
  },
  "language_info": {
   "codemirror_mode": {
    "name": "ipython",
    "version": 3
   },
   "file_extension": ".py",
   "mimetype": "text/x-python",
   "name": "python",
   "nbconvert_exporter": "python",
   "pygments_lexer": "ipython3",
   "version": "3.12.4"
  }
 },
 "nbformat": 4,
 "nbformat_minor": 2
}
